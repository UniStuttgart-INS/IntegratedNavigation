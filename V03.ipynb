{
 "cells": [
  {
   "cell_type": "markdown",
   "metadata": {},
   "source": [
    "Wir definieren hier zunächst mal die Fehler zum Zeitpunkt $t_0$."
   ]
  },
  {
   "cell_type": "code",
   "execution_count": 105,
   "metadata": {},
   "outputs": [
    {
     "name": "stdout",
     "output_type": "stream",
     "text": [
      "[[0.]\n",
      " [0.]\n",
      " [0.]\n",
      " [0.]\n",
      " [0.]\n",
      " [0.]\n",
      " [0.]\n",
      " [0.]\n",
      " [0.]\n",
      " [0.]\n",
      " [0.]\n",
      " [0.]\n",
      " [0.]\n",
      " [0.]\n",
      " [0.]]\n"
     ]
    }
   ],
   "source": [
    "import numpy as np\n",
    "\n",
    "# ----------------------------------------------------------------------------------------------------------------------\n",
    "# error vectors\n",
    "\n",
    "dr=np.zeros((3, 1))\n",
    "#dr=np.random.randn(3,1)\n",
    "#dr[0]=dr[0]*1e-3\n",
    "#dr[1]=dr[1]*1e-3\n",
    "dv=np.zeros((3, 1))\n",
    "dpsi=np.zeros((3, 1))\n",
    "da=np.zeros((3, 1))\n",
    "dw=np.zeros((3, 1))\n",
    "dx=np.concatenate((dr,dv,dpsi,da,dw), axis=0)\n",
    "\n",
    "print(dx)\n"
   ]
  },
  {
   "cell_type": "markdown",
   "metadata": {},
   "source": [
    "Jetzt legen wir Position, Geschwindigkeit und Beschleunigung fest "
   ]
  },
  {
   "cell_type": "code",
   "execution_count": 106,
   "metadata": {},
   "outputs": [],
   "source": [
    "# ----------------------------------------------------------------------------------------------------------------------\n",
    "# input arrays of nominal values\n",
    "\n",
    "# coordinates in ECEF system [[phi], [lambda], [h]] or [[lat], [lon], [height]], angles in rad!\n",
    "r_e = np.zeros((3, 1))\n",
    "r_e[0]=np.radians(48.78232) #coordinates of Stuttgart\n",
    "r_e[1]=np.radians(9.17702) #coordinates of Stuttgart\n",
    "r_e[2]=240  #coordinates of Stuttgart\n",
    "phi = r_e[0, 0]\n",
    "lamb = r_e[1, 0]\n",
    "h = r_e[2, 0]\n",
    "\n",
    "\n",
    "# velocity in n-system [[v_N], [v_E], [v_D]]\n",
    "v_n = np.zeros((3, 1))\n",
    "v_n[0]=0\n",
    "v_n[1]=0\n",
    "\n",
    "v_N = v_n[0, 0]\n",
    "v_E = v_n[1, 0]\n",
    "v_D = v_n[2, 0]\n",
    "\n",
    "# acceleration in n-system [[a_N], [a_E], [a_D]]\n",
    "a_n = np.zeros((3, 1))\n",
    "a_N = a_n[0, 0]\n",
    "a_E = a_n[1, 0]\n",
    "a_D = a_n[2, 0]\n",
    "\n"
   ]
  },
  {
   "cell_type": "markdown",
   "metadata": {},
   "source": [
    "Nun stellen wir die $\\mathbf{F}$ Matrix auf"
   ]
  },
  {
   "cell_type": "code",
   "execution_count": 107,
   "metadata": {},
   "outputs": [],
   "source": [
    "\n",
    "\n",
    "\n",
    "# ----------------------------------------------------------------------------------------------------------------------\n",
    "# Constants (in meter)\n",
    "a = 6378137.0\n",
    "b = 6356752.3\n",
    "\n",
    "def _M(phi_fix):\n",
    "    M = (a*b)**2 / ((a*np.cos(phi_fix))**2 + (b*np.sin(phi_fix))**2)**(3/2)\n",
    "    return M\n",
    "\n",
    "def _N(phi_fix):\n",
    "    N = a**2 / np.sqrt((a*np.cos(phi_fix))**2 + (b*np.sin(phi_fix))**2)\n",
    "    return N\n",
    "\n",
    "def _R(phi_fix):\n",
    "    R = np.sqrt(((a**2 * np.cos(phi_fix))**2 + (b**2 * np.sin(phi_fix))**2)/((a*np.cos(phi_fix))**2 + (b*np.sin(phi_fix))**2))\n",
    "    return R\n",
    "\n",
    "M = _M(phi)\n",
    "N = _N(phi)\n",
    "R = _R(phi)\n",
    "\n",
    "def g(h):\n",
    "    g = 9.81*(R/(R+h))**2\n",
    "    return g\n",
    "\n",
    "# Rotation rate of earth [rad/s]\n",
    "omega_E = 7.292115e-5\n",
    "\n",
    "# ----------------------------------------------------------------------------------------------------------------------\n",
    "# vectors used in the error equations\n",
    "\n",
    "deltar = np.zeros((3, 1))\n",
    "deltav = np.zeros((3, 1))\n",
    "deltaa_p = np.zeros((3, 1))\n",
    "deltaomega_ip_p = np.zeros((3, 1))\n",
    "\n",
    "# psi = [[delta R], [delta P], [delta Y]]. Attention: Use rad for angles!\n",
    "psi_n = np.zeros((3, 1))\n",
    "roll = psi_n[0, 0]\n",
    "pitch = psi_n[1, 0]\n",
    "yaw = psi_n[2, 0]\n",
    "\n",
    "# ----------------------------------------------------------------------------------------------------------------------\n",
    "# Error equation for position\n",
    "\n",
    "F_deltardot_deltar = np.array(\n",
    "    [[0.0,                                           0.0, -v_N / (M + h)**2],\n",
    "     [(v_E * np.tan(phi)) / ((N + h) * np.cos(phi)), 0.0, -v_E / ((N + h)**2 * np.cos(phi))],\n",
    "     [0.0,                                           0.0,  0.0]]\n",
    ")\n",
    "F_deltardot_deltav = np.array(\n",
    "    [[1 / (M + h),   0.0,                                    0.0],\n",
    "     [0.0,           1.0 / ((N + h) * np.cos(phi)),          0.0],\n",
    "     [0.0,           0.0,                                   -1.0]]\n",
    ")\n",
    "\n",
    "F_zero=np.zeros((3, 3))\n",
    "\n",
    "F_r = np.concatenate((F_deltardot_deltar, F_deltardot_deltav,F_zero,F_zero,F_zero), axis=1)\n",
    "\n",
    "# ----------------------------------------------------------------------------------------------------------------------\n",
    "# Error equation for velocity\n",
    "\n",
    "# Eq. (3.11) (h_1)\n",
    "\n",
    "F_deltavdot_deltapsi = np.array(\n",
    "    [[0.0,   a_D, -a_E],\n",
    "     [-a_D,  0.0,  a_N],\n",
    "     [a_E,  -a_N,  0.0]]\n",
    ")\n",
    "\n",
    "# (h_2) F_deltavdot_deltaa is equal to C_p^n, from script INav VO04 Eq. (4.8) (body and p frame are here the same)\n",
    "F_deltavdot_deltaa = np.array(\n",
    "    [[np.cos(yaw)*np.cos(pitch), np.cos(yaw)*np.sin(pitch)*np.sin(roll) - np.sin(yaw)*np.cos(roll), np.cos(yaw)*np.sin(pitch)*np.cos(roll) + np.sin(yaw)*np.sin(roll)],\n",
    "     [np.sin(yaw)*np.cos(pitch), np.sin(yaw)*np.sin(pitch)*np.sin(roll) + np.cos(yaw)*np.cos(roll), np.sin(yaw)*np.sin(pitch)*np.cos(roll) - np.cos(yaw)*np.sin(roll)],\n",
    "     [-np.sin(pitch),            np.cos(pitch)*np.sin(roll),                                        np.cos(pitch)*np.cos(roll)]]\n",
    ")\n",
    "C_p_n = F_deltavdot_deltaa\n",
    "\n",
    "\n",
    "# Eq. (3.13) (h_3)\n",
    "F_deltavdot_deltav_1 = np.array(\n",
    "    [[0.0,                                 (2*omega_E + lambdot)*np.sin(phi), phidot],\n",
    "     [-(2*omega_E + lambdot)*np.sin(phi),  0.0,                               (2*omega_E + lambdot)*np.cos(phi)],\n",
    "     [-phidot,                             (2*omega_E + lambdot)*np.cos(phi), 0.0]]\n",
    ")\n",
    "\n",
    "# Eq. (3.19) (h_4)\n",
    "F_deltavdot_deltar_1 = np.array(\n",
    "    [[-v_E*((2*omega_E + lambdot)*np.cos(phi) + lambdot*np.sin(phi)*np.tan(phi)),                            0.0, -(v_D*phidot)/(M + h) + (v_E*lambdot)/(N + h)],\n",
    "     [v_N*((2*omega_E + lambdot)*np.cos(phi) + lambdot*np.sin(phi)*np.tan(phi)) - 2*v_D*omega_E*np.sin(phi), 0.0, -(lambdot*(v_D*np.cos(phi) + v_N*np.sin(phi)))/(N + h)],\n",
    "     [2*v_E*omega_E*np.sin(phi) - lambdot*np.sin(phi)*np.tan(phi),                                           0.0,  (lambdot*(v_E*np.cos(phi) + v_N*np.sin(phi)))/(N + h)]]\n",
    ")\n",
    "F_deltavdot_deltav_2 = np.array(\n",
    "    [[v_D/(M + h),  -(v_E*np.tan(phi))/(N + h),        0.0],\n",
    "     [0.0,           (v_D*v_N*np.tan(phi))/(N + h)**2, 0.0],\n",
    "     [-v_N/(M + h), -v_E/(N + h),                      0.0]]\n",
    ")\n",
    "\n",
    "# Eq. (3.20) (h_5)\n",
    "F_deltavdot_deltar_2 = np.array(\n",
    "    [[0.0, 0.0,  0.0],\n",
    "     [0.0, 0.0,  0.0],\n",
    "     [0.0, 0.0, -2.0 * g(h) / R]]\n",
    ")\n",
    "\n",
    "F_deltavdot_deltar=F_deltavdot_deltar_1+F_deltavdot_deltar_2\n",
    "F_deltavdot_deltav=F_deltavdot_deltav_1+F_deltavdot_deltav_2\n",
    "\n",
    "F_v = np.concatenate((F_deltavdot_deltar, F_deltavdot_deltav,F_deltavdot_deltapsi,F_deltavdot_deltaa,F_zero), axis=1)\n",
    "\n",
    "# ----------------------------------------------------------------------------------------------------------------------\n",
    "# Error equation for orientation\n",
    "\n",
    "# Omega_in_n is calculated using Eq. (3.12); omega_in^n = omega_ie^n + omega_en^n and Omega_in^n is skew-symmetric\n",
    "# matrix of omega_in^n\n",
    "Omega_in_n = np.array(\n",
    "    [[0.0,                             -(omega_E + lambdot)*np.sin(phi), phidot],\n",
    "     [(omega_E + lambdot)*np.sin(phi),  0.0,                             (omega_E + lambdot)*np.cos(phi)],\n",
    "     [-phidot,                         -(omega_E + lambdot)*np.cos(phi), 0.0]]\n",
    ")\n",
    "\n",
    "# Eq. (3.32)\n",
    "F_psidot_deltar = np.array(\n",
    "    [[-omega_E*np.sin(phi),                                               0.0, -(lambdot*np.cos(phi))/(N + h)],\n",
    "     [0.0,                                                                0.0,  phidot/(M + h)],\n",
    "     [-(omega_E + lambdot)*np.cos(phi) - lambdot*np.sin(phi)*np.tan(phi), 0.0,  (lambdot*np.sin(phi))/(N + h)]]\n",
    ")\n",
    "\n",
    "# Eq. (3.32)\n",
    "F_psidot_deltav = np.array(\n",
    "    [[0.0,           1.0/(N + h),         0.0],\n",
    "     [-1.0/(M + h),  0.0,                 0.0],\n",
    "     [0.0,          -np.tan(phi)/(N + h), 0.0]]\n",
    ")\n",
    "\n",
    "F_psi = np.concatenate((F_psidot_deltar, F_psidot_deltav,-Omega_in_n,F_zero,- C_p_n), axis=1)\n",
    "\n",
    "# Eq. (3.32)\n",
    "tau=1000;\n",
    "F_GaussMarkov = np.array(\n",
    "    [[-1/tau,        0.0,         0.0],\n",
    "     [0.0,  -1/tau,             0.0],\n",
    "     [0.0,  0.0, -1/tau]]\n",
    ")\n",
    "\n",
    "\n",
    "F_da = np.concatenate((F_zero,F_zero,F_zero,F_GaussMarkov,F_zero), axis=1)\n",
    "F_dw = np.concatenate((F_zero,F_zero,F_zero,F_zero,F_GaussMarkov), axis=1)\n",
    "\n",
    "F= np.concatenate((F_r,F_v,F_psi,F_da,F_dw), axis=0)\n",
    "\n",
    "\n"
   ]
  },
  {
   "cell_type": "markdown",
   "metadata": {},
   "source": [
    "Wir interessieren uns wie sich ein Fehler über eine halbe Stunde auswirkt"
   ]
  },
  {
   "cell_type": "code",
   "execution_count": 108,
   "metadata": {},
   "outputs": [],
   "source": [
    "from scipy import linalg\n",
    "T_max=1800\n",
    "sol=dx\n",
    "for i in range(1,T_max):\n",
    "    Phi=linalg.expm(F*i)\n",
    "    dx_pred=Phi@dx\n",
    "    sol=np.concatenate((sol,dx_pred), axis=1)\n",
    "\n"
   ]
  },
  {
   "cell_type": "markdown",
   "metadata": {},
   "source": [
    "Und plotten $\\delta r$, $\\delta v$ und $\\psi$."
   ]
  },
  {
   "cell_type": "code",
   "execution_count": 109,
   "metadata": {},
   "outputs": [
    {
     "data": {
      "image/png": "[encoded data removed]",
      "text/plain": [
       "<Figure size 432x288 with 3 Axes>"
      ]
     },
     "metadata": {
      "needs_background": "light"
     },
     "output_type": "display_data"
    }
   ],
   "source": [
    "import matplotlib.pyplot as plt\n",
    "\n",
    "f, (ax1, ax2,ax3) = plt.subplots(3, 1, sharex=True)\n",
    "t=np.arange(0,T_max)\n",
    "ax1.plot(t, sol[0,:])\n",
    "ax1.set_title('d_Phi')\n",
    "ax2.plot(t, sol[1,:])\n",
    "ax2.set_title('d_Lambda')\n",
    "ax3.plot(t, sol[2,:])\n",
    "ax3.set_title('d_h')\n",
    "plt.show()"
   ]
  },
  {
   "cell_type": "code",
   "execution_count": 110,
   "metadata": {},
   "outputs": [
    {
     "data": {
      "image/png": "[encoded data removed]",
      "text/plain": [
       "<Figure size 432x288 with 3 Axes>"
      ]
     },
     "metadata": {
      "needs_background": "light"
     },
     "output_type": "display_data"
    }
   ],
   "source": [
    "f, (ax1, ax2,ax3) = plt.subplots(3, 1, sharex=True)\n",
    "t=np.arange(0,T_max)\n",
    "ax1.plot(t, sol[3,:])\n",
    "ax1.set_title('d_vN')\n",
    "ax2.plot(t, sol[4,:])\n",
    "ax2.set_title('d_vE')\n",
    "ax3.plot(t, sol[5,:])\n",
    "ax3.set_title('d_vD')\n",
    "plt.show()"
   ]
  },
  {
   "cell_type": "code",
   "execution_count": 111,
   "metadata": {},
   "outputs": [
    {
     "data": {
      "image/png": "[encoded data removed]",
      "text/plain": [
       "<Figure size 432x288 with 3 Axes>"
      ]
     },
     "metadata": {
      "needs_background": "light"
     },
     "output_type": "display_data"
    }
   ],
   "source": [
    "f, (ax1, ax2,ax3) = plt.subplots(3, 1, sharex=True)\n",
    "t=np.arange(0,T_max)\n",
    "ax1.plot(t, sol[6,:])\n",
    "ax1.set_title('d_R')\n",
    "ax2.plot(t, sol[7,:])\n",
    "ax2.set_title('d_P')\n",
    "ax3.plot(t, sol[8,:])\n",
    "ax3.set_title('d_Y')\n",
    "plt.show()"
   ]
  },
  {
   "cell_type": "code",
   "execution_count": null,
   "metadata": {},
   "outputs": [],
   "source": []
  },
  {
   "cell_type": "code",
   "execution_count": null,
   "metadata": {},
   "outputs": [],
   "source": []
  }
 ],
 "metadata": {
  "kernelspec": {
   "display_name": "Python 3",
   "language": "python",
   "name": "python3"
  },
  "language_info": {
   "codemirror_mode": {
    "name": "ipython",
    "version": 3
   },
   "file_extension": ".py",
   "mimetype": "text/x-python",
   "name": "python",
   "nbconvert_exporter": "python",
   "pygments_lexer": "ipython3",
   "version": "3.7.3"
  }
 },
 "nbformat": 4,
 "nbformat_minor": 2
}
