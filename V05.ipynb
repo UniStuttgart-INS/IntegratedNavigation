{
 "cells": [
  {
   "cell_type": "markdown",
   "metadata": {},
   "source": [
    "Achtung: Diese Beispiel ist eine modifizierte Version von https://github.com/nmayorov/allan-variance"
   ]
  },
  {
   "cell_type": "code",
   "execution_count": 33,
   "metadata": {
    "ExecuteTime": {
     "end_time": "2016-11-24T08:45:36.398000",
     "start_time": "2016-11-24T08:45:36.329000"
    }
   },
   "outputs": [],
   "source": [
    "%matplotlib inline\n",
    "import matplotlib.pyplot as plt\n",
    "import numpy as np\n",
    "from allan_variance import allan_variance, params_from_avar"
   ]
  },
  {
   "cell_type": "markdown",
   "metadata": {},
   "source": [
    "Eine Hilfsfunktion zum Erzeugen unterschiedlicher Prozessrausch-Typen"
   ]
  },
  {
   "cell_type": "code",
   "execution_count": 34,
   "metadata": {
    "ExecuteTime": {
     "end_time": "2016-11-24T08:45:36.596000",
     "start_time": "2016-11-24T08:45:36.588000"
    }
   },
   "outputs": [],
   "source": [
    "def generate_signal(n, dt, q_white, q_walk, q_ramp, random_state=0):\n",
    "    rng = np.random.RandomState(random_state)\n",
    "    white = q_white * rng.randn(n) * dt ** 0.5\n",
    "    walk = q_walk * dt ** 0.5 * np.cumsum(rng.randn(n))    \n",
    "    ramp = q_ramp * dt * np.arange(n)\n",
    "    return white + walk * dt + ramp * dt"
   ]
  },
  {
   "cell_type": "code",
   "execution_count": 35,
   "metadata": {
    "ExecuteTime": {
     "end_time": "2016-11-24T08:45:36.666000",
     "start_time": "2016-11-24T08:45:36.599000"
    }
   },
   "outputs": [],
   "source": [
    "dt = 1e-3"
   ]
  },
  {
   "cell_type": "code",
   "execution_count": 54,
   "metadata": {
    "ExecuteTime": {
     "end_time": "2016-11-24T08:45:36.897000",
     "start_time": "2016-11-24T08:45:36.668000"
    }
   },
   "outputs": [],
   "source": [
    "#x = generate_signal(1000000, dt, 0.1, 0.05, 0.002)\n",
    "x = generate_signal(1000000, dt, 0.0, 0.0, 0.001)"
   ]
  },
  {
   "cell_type": "markdown",
   "metadata": {},
   "source": [
    "Wir plotten einmal die Zeitserie"
   ]
  },
  {
   "cell_type": "code",
   "execution_count": 55,
   "metadata": {},
   "outputs": [
    {
     "data": {
      "text/plain": [
       "[<matplotlib.lines.Line2D at 0x12388d4e0>]"
      ]
     },
     "execution_count": 55,
     "metadata": {},
     "output_type": "execute_result"
    },
    {
     "data": {
      "image/png": "[encoded data removed]",
      "text/plain": [
       "<Figure size 432x288 with 1 Axes>"
      ]
     },
     "metadata": {
      "needs_background": "light"
     },
     "output_type": "display_data"
    }
   ],
   "source": [
    "plt.plot(dt*np.arange(0,1000000),x, '.')"
   ]
  },
  {
   "cell_type": "markdown",
   "metadata": {},
   "source": [
    "Zunächst berechnen wir die `allan_variance`"
   ]
  },
  {
   "cell_type": "code",
   "execution_count": 56,
   "metadata": {
    "ExecuteTime": {
     "end_time": "2016-11-24T08:45:38.676000",
     "start_time": "2016-11-24T08:45:36.900000"
    }
   },
   "outputs": [],
   "source": [
    "tau, av = allan_variance(x, dt)"
   ]
  },
  {
   "cell_type": "code",
   "execution_count": 57,
   "metadata": {
    "ExecuteTime": {
     "end_time": "2016-11-24T08:45:39.993000",
     "start_time": "2016-11-24T08:45:38.678000"
    }
   },
   "outputs": [
    {
     "data": {
      "image/png": "[encoded data removed]",
      "text/plain": [
       "<Figure size 432x288 with 1 Axes>"
      ]
     },
     "metadata": {
      "needs_background": "light"
     },
     "output_type": "display_data"
    }
   ],
   "source": [
    "plt.loglog(tau, np.sqrt(av), '.')\n",
    "plt.grid()"
   ]
  },
  {
   "cell_type": "code",
   "execution_count": null,
   "metadata": {},
   "outputs": [],
   "source": []
  }
 ],
 "metadata": {
  "anaconda-cloud": {},
  "kernelspec": {
   "display_name": "Python 3",
   "language": "python",
   "name": "python3"
  },
  "language_info": {
   "codemirror_mode": {
    "name": "ipython",
    "version": 3
   },
   "file_extension": ".py",
   "mimetype": "text/x-python",
   "name": "python",
   "nbconvert_exporter": "python",
   "pygments_lexer": "ipython3",
   "version": "3.7.3"
  },
  "toc": {
   "nav_menu": {
    "height": "47px",
    "width": "252px"
   },
   "navigate_menu": true,
   "number_sections": true,
   "sideBar": true,
   "threshold": 4,
   "toc_cell": false,
   "toc_section_display": "block",
   "toc_window_display": false
  }
 },
 "nbformat": 4,
 "nbformat_minor": 1
}
